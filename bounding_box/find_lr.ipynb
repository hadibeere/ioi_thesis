{
 "cells": [
  {
   "cell_type": "code",
   "execution_count": 1,
   "metadata": {},
   "outputs": [],
   "source": [
    "%matplotlib inline"
   ]
  },
  {
   "cell_type": "markdown",
   "metadata": {},
   "source": [
    "## Search start learning rate for minimal example"
   ]
  },
  {
   "cell_type": "code",
   "execution_count": 1,
   "metadata": {},
   "outputs": [],
   "source": [
    "import os\n",
    "import pandas as pd\n",
    "import numpy as np\n",
    "import cv2\n",
    "import torch\n",
    "import random\n",
    "\n",
    "import ssd.transforms.transforms as tr\n",
    "from torch.utils.data import Dataset\n",
    "from ssd.utils.misc import count_files, collect_filenames"
   ]
  },
  {
   "cell_type": "code",
   "execution_count": 2,
   "metadata": {},
   "outputs": [
    {
     "name": "stdout",
     "output_type": "stream",
     "text": [
      "0.4.1.post2\n"
     ]
    }
   ],
   "source": [
    "print(torch.__version__)"
   ]
  },
  {
   "cell_type": "code",
   "execution_count": 3,
   "metadata": {},
   "outputs": [],
   "source": [
    "class MinBrainIOI(Dataset):\n",
    "    \"\"\"Frames from intrinsic optical imaging data of the human cortex\"\"\"\n",
    "\n",
    "    def __init__(self, csv_file, root_dir, border=0, transform=None, target_transform=None):\n",
    "        \"\"\"\n",
    "        Args:\n",
    "            csv_file (string): Path to the csv file with annotations.\n",
    "            root_dir (string): Directory with all the frames per patient.\n",
    "            border (int): additional border in pixels to expand bounding box\n",
    "            transform (callable, optional): Optional transform to be applied\n",
    "                on a sample.\n",
    "            target_transform (callable): Transform bounding boxes from general representation to specific for cnn\n",
    "\n",
    "        \"\"\"\n",
    "        self.root_dir = root_dir\n",
    "        self.annotations = pd.read_csv(csv_file)\n",
    "        self.classes = [\"BACKGROUND\", \"stimulation\"]\n",
    "        self.border = border  # pixel\n",
    "        self.files, self.class_labels = self.create_file_list()\n",
    "        self.bins = self.create_bins()\n",
    "        self.transform = transform\n",
    "        self.target_transform = target_transform\n",
    "\n",
    "    def __len__(self):\n",
    "        return int(len(self.class_labels) / 2)\n",
    "\n",
    "    def __getitem__(self, idx):\n",
    "        \"\"\"\n",
    "        2 images will be combined per sample\n",
    "\n",
    "        Return: combined sample, one bbox as list and one label as list\n",
    "        \"\"\"\n",
    "        loc = idx * 2\n",
    "        image1 = cv2.imread(self.files[loc], cv2.IMREAD_ANYCOLOR | cv2.IMREAD_ANYDEPTH)\n",
    "        image2 = cv2.imread(self.files[loc + 1], cv2.IMREAD_ANYCOLOR | cv2.IMREAD_ANYDEPTH)\n",
    "        sample = np.dstack((image1, image2))\n",
    "        height, width, channel = sample.shape\n",
    "        bbox = [0, 0, width, height] # default box is whole image\n",
    "        if self.class_labels[loc] == 1:\n",
    "            pos = np.digitize(loc, self.bins) - 1  # find out which annotation belongs to data\n",
    "            tips = self.annotations.iloc[pos, 3:].values.reshape(2,2)  # 2 electrode tips for each picture ([posx1, posy1], [posx2, posy2])\n",
    "            bbox = [self._min_with_border(tips[0][0], tips[1][0]), self._min_with_border(tips[0][1], tips[1][1]),\n",
    "                    self._max_with_border(tips[0][0], tips[1][0], width),\n",
    "                    self._max_with_border(tips[0][1], tips[1][1], height)]\n",
    "\n",
    "        if self.transform:\n",
    "            sample, bbox = self.transform(sample, bbox)\n",
    "        else:\n",
    "            transform = ToTensor()\n",
    "            sample, bbox = transform(sample, bbox)\n",
    "\n",
    "        # create bbox and labels as list, if we should have multiple labels per image\n",
    "        boxes = bbox.unsqueeze(0)\n",
    "        labels = torch.LongTensor([self.class_labels[loc]])\n",
    "        if self.target_transform:\n",
    "            boxes, labels = self.target_transform(boxes, labels)\n",
    "\n",
    "        return sample, boxes, labels\n",
    "\n",
    "    def create_bins(self):\n",
    "        sub_folders = [\"stimulation\"]\n",
    "        bins = [0]\n",
    "        for i in range(0, len(self.annotations)):\n",
    "            parent = os.path.join(self.root_dir, self.annotations.iloc[i, 0])\n",
    "            sum_bin = 0\n",
    "            for child in sub_folders:\n",
    "                count = count_files(os.path.join(parent, child), '.tif')\n",
    "                if count % 2 != 0:\n",
    "                    count -= 1\n",
    "\n",
    "                sum_bin += count\n",
    "\n",
    "            bins.append(bins[i] + sum_bin)\n",
    "\n",
    "        return bins\n",
    "\n",
    "    def create_file_list(self):\n",
    "        sub_folders = [\"stimulation\"]\n",
    "        file_list = []\n",
    "        class_labels = []\n",
    "        for i in range(0, len(self.annotations)):\n",
    "            parent = os.path.join(self.root_dir, self.annotations.iloc[i, 0])\n",
    "            for child in sub_folders:\n",
    "                files = collect_filenames(os.path.join(parent, child), '.tif')\n",
    "                if len(files) % 2 != 0:\n",
    "                    files = files[:-1]\n",
    "\n",
    "                file_list += files[:2] # only store 1 image per sample\n",
    "                cur_class = 1\n",
    "                class_labels += [cur_class for _ in range(len(files[:2]))]\n",
    "\n",
    "        return file_list, class_labels\n",
    "\n",
    "    def _min_with_border(self, x, y):\n",
    "        tmp_min = min(x, y)\n",
    "        if tmp_min >= self.border:\n",
    "            tmp_min -= self.border\n",
    "\n",
    "        return tmp_min\n",
    "\n",
    "    def _max_with_border(self, x, y, limit):\n",
    "        tmp_max = max(x, y) + self.border\n",
    "        if tmp_max > limit:\n",
    "            tmp_max = limit\n",
    "\n",
    "        return tmp_max\n",
    "\n"
   ]
  },
  {
   "cell_type": "code",
   "execution_count": 4,
   "metadata": {},
   "outputs": [],
   "source": [
    "from ssd.model.ssd import MatchPrior, SSD\n",
    "from ssd.config import mobilenetv1_ssd_config\n",
    "from ssd.utils.misc import str2bool, Timer, freeze_net_layers\n",
    "\n",
    "from ssd.transforms.preprocessing import TrainAugmentation, TestTransform\n",
    "\n",
    "from ssd.model.multibox_loss import MultiboxLoss\n",
    "\n",
    "from torch.utils.data import DataLoader"
   ]
  },
  {
   "cell_type": "code",
   "execution_count": 5,
   "metadata": {},
   "outputs": [],
   "source": [
    "import itertools"
   ]
  },
  {
   "cell_type": "code",
   "execution_count": 6,
   "metadata": {},
   "outputs": [],
   "source": [
    "def train(loader, net, criterion, optimizer, device, debug_steps=100, epoch=-1):\n",
    "    net.train(True)\n",
    "    running_loss = 0.0\n",
    "    running_regression_loss = 0.0\n",
    "    running_classification_loss = 0.0\n",
    "    num = 0\n",
    "    for i, data in enumerate(loader):\n",
    "        images, boxes, labels = data\n",
    "        images = images.to(device)\n",
    "        boxes = boxes.to(device)\n",
    "        labels = labels.to(device)\n",
    "\n",
    "        optimizer.zero_grad()\n",
    "        confidence, locations = net(images)\n",
    "        regression_loss, classification_loss = criterion(confidence, locations, labels, boxes)  # TODO CHANGE BOXES\n",
    "        loss = regression_loss + classification_loss\n",
    "        loss.backward()\n",
    "        optimizer.step()\n",
    "        running_loss += loss.item()\n",
    "        running_regression_loss += regression_loss.item()\n",
    "        running_classification_loss += classification_loss.item()\n",
    "        num += 1\n",
    "        \n",
    "    return running_loss / num, running_regression_loss / num, running_classification_loss / num  "
   ]
  },
  {
   "cell_type": "code",
   "execution_count": 7,
   "metadata": {},
   "outputs": [],
   "source": [
    "def test(loader, net, criterion, device):\n",
    "    net.eval()\n",
    "    running_loss = 0.0\n",
    "    running_regression_loss = 0.0\n",
    "    running_classification_loss = 0.0\n",
    "    num = 0\n",
    "    for _, data in enumerate(loader):\n",
    "        images, boxes, labels = data\n",
    "        images = images.to(device)\n",
    "        boxes = boxes.to(device)\n",
    "        labels = labels.to(device)\n",
    "        num += 1\n",
    "\n",
    "        with torch.no_grad():\n",
    "            confidence, locations = net(images)\n",
    "            regression_loss, classification_loss = criterion(confidence, locations, labels, boxes)\n",
    "            loss = regression_loss + classification_loss\n",
    "\n",
    "        running_loss += loss.item()\n",
    "        running_regression_loss += regression_loss.item()\n",
    "        running_classification_loss += classification_loss.item()\n",
    "    return running_loss / num, running_regression_loss / num, running_classification_loss / num"
   ]
  },
  {
   "cell_type": "code",
   "execution_count": 8,
   "metadata": {},
   "outputs": [],
   "source": [
    "def find_lr(train_loader, test_loader, model, start_lr, max_lr, num_epochs, opt):\n",
    "#     import pdb; pdb.set_trace()\n",
    "\n",
    "    n = 16 # number of iterations\n",
    "    q = (max_lr / start_lr)**(1./n)\n",
    "    sched = torch.optim.lr_scheduler.StepLR(opt, step_size=1, gamma=q) #torch.optim.lr_scheduler.ExponentialLR(opt, gamma)\n",
    "    losses = []\n",
    "    lrs = []\n",
    "    best_loss = 10**10\n",
    "    for epoch in range(0, num_epochs):\n",
    "        print(\"Epoch \" + str(epoch))\n",
    "        sched.step()\n",
    "        loss, regression_loss, classification_loss = train(train_loader, net, criterion, optimizer,\n",
    "              device=DEVICE, debug_steps=10, epoch=epoch)\n",
    "        \n",
    "        print(\"regression_loss: \" + str(regression_loss) + \" classification_loss: \" + str(classification_loss))\n",
    "        val_loss, val_regression_loss, val_classification_loss = test(val_loader, net, criterion, DEVICE)\n",
    "        print(\"val_loss: \" + str(val_regression_loss) + \" val_classification_loss: \" + str(val_classification_loss))\n",
    "        \n",
    "        lrs.append(sched.get_lr()[0])\n",
    "        losses.append(loss)\n",
    "        \n",
    "        print(\"lr: \" + str(sched.get_lr()[0]))\n",
    "        \n",
    "        if loss < best_loss:\n",
    "            best_loss = loss\n",
    "        \n",
    "        if loss > 4*best_loss:\n",
    "            break\n",
    "            \n",
    "    return lrs, losses\n",
    "        \n"
   ]
  },
  {
   "cell_type": "code",
   "execution_count": 13,
   "metadata": {},
   "outputs": [
    {
     "name": "stdout",
     "output_type": "stream",
     "text": [
      "Train dataset size: 16\n",
      "validation dataset size: 4\n"
     ]
    }
   ],
   "source": [
    "batch_size = 1\n",
    "num_workers = 2\n",
    "\n",
    "dataset=\"/home/maggie/Dokumente/Diplomarbeit/source_code/data/train\"\n",
    "validation_dataset=\"/home/maggie/Dokumente/Diplomarbeit/source_code/data/val\"\n",
    "\n",
    "DEVICE = \"cuda\" #torch.device(\"cuda:0\" if torch.cuda.is_available() else \"cpu\")\n",
    "\n",
    "config = mobilenetv1_ssd_config\n",
    "\n",
    "train_transform = TrainAugmentation(config.image_size, config.image_mean, config.image_std, 0.7)\n",
    "target_transform = MatchPrior(config.priors, config.center_variance,\n",
    "                                  config.size_variance, 0.5)\n",
    "\n",
    "test_transform = TestTransform(config.image_size, config.image_mean, config.image_std,)\n",
    "\n",
    "train_dataset = MinBrainIOI(os.path.join(dataset, 'stimulation.csv'), dataset, border=10,\n",
    "                                    transform=train_transform, target_transform=target_transform)\n",
    "print(\"Train dataset size: {}\".format(len(train_dataset)))\n",
    "\n",
    "train_loader = DataLoader(train_dataset, batch_size,\n",
    "                                  num_workers=num_workers,\n",
    "                                  shuffle=True)\n",
    "\n",
    "val_dataset = MinBrainIOI(os.path.join(validation_dataset, 'stimulation.csv'), validation_dataset,\n",
    "                                  transform=test_transform, target_transform=target_transform)\n",
    "print(\"validation dataset size: {}\".format(len(val_dataset)))\n",
    "val_loader = DataLoader(val_dataset, batch_size,\n",
    "                            num_workers=num_workers,\n",
    "                            shuffle=False)\n",
    "num_classes = len(train_dataset.classes)\n",
    "net = SSD(num_classes, config=config)\n",
    "net.to(DEVICE)\n",
    "\n",
    "criterion = MultiboxLoss(config.priors, iou_threshold=0.5, neg_pos_ratio=3,\n",
    "                             center_variance=0.1, size_variance=0.2, device=DEVICE)\n",
    "\n",
    "start_lr =  0.00001 #0.00015625 #0.01\n",
    "max_lr = 10\n",
    "\n",
    "params = [\n",
    "            {'params': net.base_net.parameters(), 'lr': start_lr},\n",
    "            {'params': itertools.chain(\n",
    "                net.source_layer_add_ons.parameters(),\n",
    "                net.extras.parameters()\n",
    "            ), 'lr': start_lr},\n",
    "            {'params': itertools.chain(\n",
    "                net.regression_headers.parameters(),\n",
    "                net.classification_headers.parameters()\n",
    "            )}\n",
    "        ]\n",
    "\n",
    "optimizer = torch.optim.SGD(params, lr=start_lr, momentum=0.9, weight_decay=5e-4)"
   ]
  },
  {
   "cell_type": "code",
   "execution_count": 14,
   "metadata": {},
   "outputs": [],
   "source": [
    "import pickle\n",
    "import matplotlib.pyplot as plt"
   ]
  },
  {
   "cell_type": "code",
   "execution_count": 15,
   "metadata": {},
   "outputs": [],
   "source": [
    "num_epochs = 120"
   ]
  },
  {
   "cell_type": "code",
   "execution_count": 16,
   "metadata": {},
   "outputs": [
    {
     "name": "stdout",
     "output_type": "stream",
     "text": [
      "Epoch 0\n"
     ]
    },
    {
     "name": "stderr",
     "output_type": "stream",
     "text": [
      "/home/maggie/anaconda3/envs/pytorch/lib/python3.6/site-packages/torch/nn/functional.py:52: UserWarning: size_average and reduce args will be deprecated, please use reduction='sum' instead.\n",
      "  warnings.warn(warning.format(ret))\n"
     ]
    },
    {
     "name": "stdout",
     "output_type": "stream",
     "text": [
      "regression_loss: 27.008027374744415 classification_loss: 4.7908021211624146\n",
      "val_loss: 10.915264129638672 val_classification_loss: 2.901122570037842\n",
      "lr: 1e-05\n",
      "Epoch 1\n",
      "regression_loss: 92.10428434610367 classification_loss: 4.0379407703876495\n",
      "val_loss: 11.83589220046997 val_classification_loss: 2.9674611687660217\n",
      "lr: 2.3713737056616554e-05\n",
      "Epoch 2\n",
      "regression_loss: 42.28953951597214 classification_loss: 3.5705654621124268\n",
      "val_loss: 11.343942642211914 val_classification_loss: 3.1187018156051636\n",
      "lr: 5.623413251903491e-05\n",
      "Epoch 3\n",
      "regression_loss: 64.9726523719728 classification_loss: 3.3441189378499985\n",
      "val_loss: 8.0523020029068 val_classification_loss: 3.251709759235382\n",
      "lr: 0.00013335214321633237\n",
      "Epoch 4\n",
      "regression_loss: 37.732464265078306 classification_loss: 3.504834771156311\n",
      "val_loss: 18.53620481491089 val_classification_loss: 21.66500687599182\n",
      "lr: 0.00031622776601683783\n",
      "Epoch 5\n",
      "regression_loss: 66.59672884829342 classification_loss: 5.280812382698059\n",
      "val_loss: 2780.1778717041016 val_classification_loss: 330.8243865966797\n",
      "lr: 0.0007498942093324556\n",
      "Epoch 6\n",
      "regression_loss: 41.369671039283276 classification_loss: 8.081331759691238\n",
      "val_loss: 1322.325213432312 val_classification_loss: 594.6829795837402\n",
      "lr: 0.001778279410038922\n",
      "Epoch 7\n",
      "regression_loss: 81.51525197923183 classification_loss: 17.25088205933571\n",
      "val_loss: 2942.210968017578 val_classification_loss: 13629.984924316406\n",
      "lr: 0.00421696503428582\n",
      "Epoch 8\n",
      "regression_loss: 121.39074271917343 classification_loss: 16.29075963795185\n",
      "val_loss: 552892.8798828125 val_classification_loss: 670836.2568359375\n",
      "lr: 0.009999999999999993\n"
     ]
    },
    {
     "data": {
      "text/plain": [
       "[<matplotlib.lines.Line2D at 0x7f61c05aaf98>]"
      ]
     },
     "execution_count": 16,
     "metadata": {},
     "output_type": "execute_result"
    },
    {
     "data": {
      "image/png": "[encoded data removed]",
      "text/plain": [
       "<Figure size 432x288 with 1 Axes>"
      ]
     },
     "metadata": {},
     "output_type": "display_data"
    }
   ],
   "source": [
    "lrs, losses = find_lr(train_loader, val_loader, net, start_lr, max_lr, num_epochs, optimizer)\n",
    "file_name = str(start_lr) + \"_\" + str(max_lr) + \"_losses.txt\"\n",
    "with open(file_name, \"wb\") as fp:\n",
    "    pickle.dump([lrs, losses], fp)\n",
    "    \n",
    "#plt.plot(lrs, losses, 'b-')\n",
    "plt.semilogx(lrs, losses, 'g-')"
   ]
  },
  {
   "cell_type": "code",
   "execution_count": 25,
   "metadata": {},
   "outputs": [
    {
     "data": {
      "text/plain": [
       "[<matplotlib.lines.Line2D at 0x7f83c5f3da90>]"
      ]
     },
     "execution_count": 25,
     "metadata": {},
     "output_type": "execute_result"
    },
    {
     "data": {
      "image/png": "[encoded data removed]",
      "text/plain": [
       "<Figure size 432x288 with 1 Axes>"
      ]
     },
     "metadata": {},
     "output_type": "display_data"
    }
   ],
   "source": [
    "plt.semilogx(lrs, losses, 'g-')"
   ]
  },
  {
   "cell_type": "code",
   "execution_count": null,
   "metadata": {},
   "outputs": [],
   "source": []
  }
 ],
 "metadata": {
  "kernelspec": {
   "display_name": "Python [conda env:pytorch]",
   "language": "python",
   "name": "conda-env-pytorch-py"
  },
  "language_info": {
   "codemirror_mode": {
    "name": "ipython",
    "version": 3
   },
   "file_extension": ".py",
   "mimetype": "text/x-python",
   "name": "python",
   "nbconvert_exporter": "python",
   "pygments_lexer": "ipython3",
   "version": "3.6.6"
  }
 },
 "nbformat": 4,
 "nbformat_minor": 2
}
